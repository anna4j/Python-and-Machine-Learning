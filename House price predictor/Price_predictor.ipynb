{
  "nbformat": 4,
  "nbformat_minor": 0,
  "metadata": {
    "colab": {
      "name": "Price predictor.ipynb",
      "provenance": [],
      "collapsed_sections": []
    },
    "kernelspec": {
      "name": "python3",
      "display_name": "Python 3"
    }
  },
  "cells": [
    {
      "cell_type": "code",
      "metadata": {
        "id": "F6jFPbQY9B_h",
        "colab_type": "code",
        "colab": {}
      },
      "source": [
        "import pandas as pd\n",
        "import os\n",
        "import numpy as np\n",
        "import matplotlib.pyplot as plt\n",
        "%matplotlib inline\n"
      ],
      "execution_count": 0,
      "outputs": []
    },
    {
      "cell_type": "markdown",
      "metadata": {
        "id": "4PujL-ShBvsa",
        "colab_type": "text"
      },
      "source": [
        "#Reading the Data"
      ]
    },
    {
      "cell_type": "code",
      "metadata": {
        "id": "B90IksD1Btsi",
        "colab_type": "code",
        "colab": {}
      },
      "source": [
        "url = 'https://github.com/alokproc/Verzeo/raw/master/Project/test%20(1).csv'\n",
        "df_test = pd.read_csv(url)\n"
      ],
      "execution_count": 0,
      "outputs": []
    },
    {
      "cell_type": "code",
      "metadata": {
        "id": "sUdok6e7DC3y",
        "colab_type": "code",
        "colab": {}
      },
      "source": [
        "url1 = 'https://github.com/alokproc/Verzeo/raw/master/Project/train%20(2).csv'\n",
        "df_train = pd.read_csv(url1)\n",
        "\n"
      ],
      "execution_count": 0,
      "outputs": []
    },
    {
      "cell_type": "code",
      "metadata": {
        "id": "CcCNRvJmWAX5",
        "colab_type": "code",
        "colab": {}
      },
      "source": [
        "\n",
        "y_train=df_train.iloc[:,-1].values\n",
        "df_train.drop([\"SalePrice\"],axis=1,inplace=True)\n",
        "df=pd.concat([df_train,df_test])\n",
        "# Dataset is now stored in a Pandas Dataframe"
      ],
      "execution_count": 0,
      "outputs": []
    },
    {
      "cell_type": "markdown",
      "metadata": {
        "id": "P4EzWXQdCgn3",
        "colab_type": "text"
      },
      "source": [
        "#Finding missing values"
      ]
    },
    {
      "cell_type": "code",
      "metadata": {
        "id": "GtdC98j4Edu3",
        "colab_type": "code",
        "colab": {}
      },
      "source": [
        "#For basic data cleaning, I removed features that have missing values for more than 50% of the data."
      ],
      "execution_count": 0,
      "outputs": []
    },
    {
      "cell_type": "code",
      "metadata": {
        "id": "cPNxgQsqC58c",
        "colab_type": "code",
        "colab": {}
      },
      "source": [
        "# Removing features with > 50% missing values\n",
        "missing=df.isnull().sum()/len(df)\n",
        "miss_features=missing.loc[missing>0.5].index\n",
        "df.drop(miss_features,inplace=True,axis=1)"
      ],
      "execution_count": 0,
      "outputs": []
    },
    {
      "cell_type": "markdown",
      "metadata": {
        "id": "Bwgy8Kgp9N38",
        "colab_type": "text"
      },
      "source": [
        "#Checking the correlation between features"
      ]
    },
    {
      "cell_type": "code",
      "metadata": {
        "id": "8VoEdPzvEIvr",
        "colab_type": "code",
        "colab": {}
      },
      "source": [
        ""
      ],
      "execution_count": 0,
      "outputs": []
    },
    {
      "cell_type": "code",
      "metadata": {
        "id": "1rbND0vNE-An",
        "colab_type": "code",
        "colab": {}
      },
      "source": [
        "#Removing features that are highly correlated with each other or features that do not correlate with SalePrice"
      ],
      "execution_count": 0,
      "outputs": []
    },
    {
      "cell_type": "code",
      "metadata": {
        "id": "F_G-f_0tFSp9",
        "colab_type": "code",
        "colab": {}
      },
      "source": [
        "\n",
        "df.drop([\"Id\",\"YrSold\",\"MoSold\",\"MiscVal\",\"PoolArea\",\"ScreenPorch\",\"3SsnPorch\",\"EnclosedPorch\",\"KitchenAbvGr\",\n",
        "         \"BedroomAbvGr\", \"HalfBath\",\"BsmtFullBath\",\"BsmtHalfBath\",\"LowQualFinSF\",\"BsmtUnfSF\",\"BsmtFinSF2\",\"MSSubClass\",\n",
        "         \"OverallCond\", \"LotArea\"],inplace=True,axis=1)"
      ],
      "execution_count": 0,
      "outputs": []
    },
    {
      "cell_type": "markdown",
      "metadata": {
        "id": "T8MIDi8eGdYv",
        "colab_type": "text"
      },
      "source": [
        "#Filling missing values using the mean or mode of the columns, depending if it is a continuous or categorical feature respectively"
      ]
    },
    {
      "cell_type": "code",
      "metadata": {
        "id": "fqRbOkGwFrSY",
        "colab_type": "code",
        "colab": {}
      },
      "source": [
        "# fillna\n",
        "for bsmt in [\"BsmtQual\",\"BsmtCond\",\"BsmtExposure\",\"BsmtFinType1\",\"BsmtFinType2\"]:\n",
        "    df[bsmt].fillna(\"No\",inplace=True)\n",
        "\n",
        "\n",
        "\n",
        "df[\"FireplaceQu\"].fillna(\"No\",inplace=True)\n",
        "\n",
        "for gar in ('GarageType', 'GarageFinish', 'GarageQual',\"GarageYrBlt\",\"GarageCond\"):\n",
        "    df[gar].fillna('No',inplace=True)\n",
        "    \n",
        "for gar1 in ('GarageCars', 'GarageArea'):\n",
        "    df[gar1].fillna(0,inplace=True)\n",
        "\n",
        "for ea in (\"LotFrontage\",\"MasVnrArea\",\"TotalBsmtSF\",\"BsmtFinSF1\"):\n",
        "    df[ea].fillna(df[ea].mean(),inplace=True)\n",
        "\n",
        "for _ in (\"MasVnrType\",\"MSZoning\",\"Utilities\",\"Exterior1st\",\"Exterior2nd\",\"Functional\",\"KitchenQual\",\"SaleType\",\"Electrical\"):\n",
        "    df[_].fillna(df[_].mode()[0],inplace=True)"
      ],
      "execution_count": 0,
      "outputs": []
    },
    {
      "cell_type": "markdown",
      "metadata": {
        "id": "k5nrkKVYBA5v",
        "colab_type": "text"
      },
      "source": [
        "# Encoding categorical features"
      ]
    },
    {
      "cell_type": "code",
      "metadata": {
        "id": "EbWGb6yHGPKQ",
        "colab_type": "code",
        "colab": {}
      },
      "source": [
        "# encoding categorical features\n",
        "df=pd.get_dummies(df)"
      ],
      "execution_count": 0,
      "outputs": []
    },
    {
      "cell_type": "code",
      "metadata": {
        "id": "watN_nnkGSDM",
        "colab_type": "code",
        "colab": {}
      },
      "source": [
        "# Convert dataframe into X and y numpy array\n",
        "X_train=df.iloc[:1460,:].values\n",
        "\n",
        "X_test=df.iloc[1460:,:].values"
      ],
      "execution_count": 0,
      "outputs": []
    },
    {
      "cell_type": "markdown",
      "metadata": {
        "id": "M1xTRwWnXW9D",
        "colab_type": "text"
      },
      "source": [
        "# Implementing Linear Regression to find premium"
      ]
    },
    {
      "cell_type": "code",
      "metadata": {
        "id": "Ov96Sz3kMWeI",
        "colab_type": "code",
        "colab": {}
      },
      "source": [
        "from sklearn.linear_model import LinearRegression"
      ],
      "execution_count": 0,
      "outputs": []
    },
    {
      "cell_type": "code",
      "metadata": {
        "id": "jZhKzJIbXa6h",
        "colab_type": "code",
        "colab": {}
      },
      "source": [
        "lreg=LinearRegression()"
      ],
      "execution_count": 0,
      "outputs": []
    },
    {
      "cell_type": "code",
      "metadata": {
        "id": "rMy-ZgstX196",
        "colab_type": "code",
        "colab": {
          "base_uri": "https://localhost:8080/",
          "height": 34
        },
        "outputId": "10826a66-3e3c-49d4-f7f4-a1325c8e5d07"
      },
      "source": [
        "lreg.fit(X_train,y_train)"
      ],
      "execution_count": 22,
      "outputs": [
        {
          "output_type": "execute_result",
          "data": {
            "text/plain": [
              "LinearRegression(copy_X=True, fit_intercept=True, n_jobs=None, normalize=False)"
            ]
          },
          "metadata": {
            "tags": []
          },
          "execution_count": 22
        }
      ]
    },
    {
      "cell_type": "code",
      "metadata": {
        "id": "Cr3Bcs8hX5E3",
        "colab_type": "code",
        "colab": {}
      },
      "source": [
        "pred=lreg.predict(X_test)"
      ],
      "execution_count": 0,
      "outputs": []
    },
    {
      "cell_type": "markdown",
      "metadata": {
        "id": "TB3X7yamDM06",
        "colab_type": "text"
      },
      "source": [
        "#Performance of linear regression model on Train Data set"
      ]
    },
    {
      "cell_type": "code",
      "metadata": {
        "id": "8DIqaeXNX9cX",
        "colab_type": "code",
        "colab": {
          "base_uri": "https://localhost:8080/",
          "height": 34
        },
        "outputId": "6a93ab54-c169-4764-8549-951c6c067032"
      },
      "source": [
        "rmse_train=np.sqrt(np.mean(np.power((np.array(y_train)-np.array(lreg.predict(X_train))),2)))\n",
        "print(rmse_train)"
      ],
      "execution_count": 24,
      "outputs": [
        {
          "output_type": "stream",
          "text": [
            "21100.729096666066\n"
          ],
          "name": "stdout"
        }
      ]
    },
    {
      "cell_type": "code",
      "metadata": {
        "id": "7EHK1AlBCEgn",
        "colab_type": "code",
        "colab": {
          "base_uri": "https://localhost:8080/",
          "height": 34
        },
        "outputId": "7de0b054-f317-4a69-c698-a1736fe0efd7"
      },
      "source": [
        "lreg.score(X_train,y_train)"
      ],
      "execution_count": 25,
      "outputs": [
        {
          "output_type": "execute_result",
          "data": {
            "text/plain": [
              "0.9294029342532288"
            ]
          },
          "metadata": {
            "tags": []
          },
          "execution_count": 25
        }
      ]
    },
    {
      "cell_type": "code",
      "metadata": {
        "id": "boFx4FntDtfb",
        "colab_type": "code",
        "colab": {
          "base_uri": "https://localhost:8080/",
          "height": 52
        },
        "outputId": "1d6a8e9e-57ce-4cf8-c220-f6f73f93dd0b"
      },
      "source": [
        "print(pred)"
      ],
      "execution_count": 26,
      "outputs": [
        {
          "output_type": "stream",
          "text": [
            "[100738.9375  167373.5625  189033.4375  ... 179337.53125 107632.6875\n",
            " 216863.25   ]\n"
          ],
          "name": "stdout"
        }
      ]
    },
    {
      "cell_type": "code",
      "metadata": {
        "id": "S6h9sQOjD07l",
        "colab_type": "code",
        "colab": {}
      },
      "source": [
        ""
      ],
      "execution_count": 0,
      "outputs": []
    }
  ]
}